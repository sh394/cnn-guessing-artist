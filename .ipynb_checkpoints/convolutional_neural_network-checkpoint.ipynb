{
 "cells": [
  {
   "cell_type": "markdown",
   "metadata": {
    "id": "3DR-eO17geWu"
   },
   "source": [
    "# Convolutional Neural Network"
   ]
  },
  {
   "cell_type": "markdown",
   "metadata": {
    "id": "EMefrVPCg-60"
   },
   "source": [
    "### Importing the libraries"
   ]
  },
  {
   "cell_type": "code",
   "execution_count": 15,
   "metadata": {
    "id": "1rfkpOZ-K4jB"
   },
   "outputs": [],
   "source": [
    "import tensorflow as tf\n",
    "from tensorflow.keras.preprocessing.image import ImageDataGenerator"
   ]
  },
  {
   "cell_type": "code",
   "execution_count": 16,
   "metadata": {
    "colab": {
     "base_uri": "https://localhost:8080/",
     "height": 35
    },
    "id": "D-1qU9V-LKk1",
    "outputId": "841885ee-d0da-4b20-b66f-8d3a69ca0c07"
   },
   "outputs": [
    {
     "data": {
      "text/plain": [
       "'2.5.0'"
      ]
     },
     "execution_count": 16,
     "metadata": {},
     "output_type": "execute_result"
    }
   ],
   "source": [
    "tf.__version__"
   ]
  },
  {
   "cell_type": "markdown",
   "metadata": {
    "id": "oxQxCBWyoGPE"
   },
   "source": [
    "## Data Preprocessing"
   ]
  },
  {
   "cell_type": "markdown",
   "metadata": {
    "id": "MvE-heJNo3GG"
   },
   "source": [
    "### Preprocessing the Training set"
   ]
  },
  {
   "cell_type": "code",
   "execution_count": 17,
   "metadata": {
    "id": "ylhF3orCLa8a"
   },
   "outputs": [
    {
     "name": "stdout",
     "output_type": "stream",
     "text": [
      "Found 1204 images belonging to 4 classes.\n"
     ]
    }
   ],
   "source": [
    "train_datagen = ImageDataGenerator(\n",
    "        rescale=1./255,\n",
    "        shear_range=0.2,\n",
    "        zoom_range=0.2,\n",
    "        horizontal_flip=True)\n",
    "\n",
    "training_set = train_datagen.flow_from_directory(\n",
    "        'dataset/training_set',\n",
    "        target_size=(64, 64),\n",
    "        batch_size=32,\n",
    "        class_mode='categorical')"
   ]
  },
  {
   "cell_type": "markdown",
   "metadata": {
    "id": "mrCMmGw9pHys"
   },
   "source": [
    "### Preprocessing the Test set"
   ]
  },
  {
   "cell_type": "code",
   "execution_count": 18,
   "metadata": {
    "id": "XpMpXsnGOAMx"
   },
   "outputs": [
    {
     "name": "stdout",
     "output_type": "stream",
     "text": [
      "Found 1204 images belonging to 4 classes.\n"
     ]
    }
   ],
   "source": [
    "test_datagen = ImageDataGenerator(rescale=1./255)\n",
    "\n",
    "test_set = test_datagen.flow_from_directory(\n",
    "        'dataset/test_set',\n",
    "        target_size=(64, 64),\n",
    "        batch_size=32,\n",
    "        class_mode='categorical')"
   ]
  },
  {
   "cell_type": "markdown",
   "metadata": {
    "id": "af8O4l90gk7B"
   },
   "source": [
    "##  Building the CNN"
   ]
  },
  {
   "cell_type": "markdown",
   "metadata": {
    "id": "ces1gXY2lmoX"
   },
   "source": [
    "### Initialising the CNN"
   ]
  },
  {
   "cell_type": "code",
   "execution_count": 19,
   "metadata": {
    "id": "s1C7TMBpQcHW"
   },
   "outputs": [],
   "source": [
    "cnn = tf.keras.models.Sequential()"
   ]
  },
  {
   "cell_type": "markdown",
   "metadata": {
    "id": "u5YJj_XMl5LF"
   },
   "source": [
    "###  Convolution"
   ]
  },
  {
   "cell_type": "code",
   "execution_count": 20,
   "metadata": {
    "id": "v-0mWaoWRnt5"
   },
   "outputs": [],
   "source": [
    "cnn.add(tf.keras.layers.Conv2D(filters=32, kernel_size= 3, activation='relu', input_shape =[64,64,3]))"
   ]
  },
  {
   "cell_type": "markdown",
   "metadata": {
    "id": "tf87FpvxmNOJ"
   },
   "source": [
    "###  Pooling"
   ]
  },
  {
   "cell_type": "code",
   "execution_count": 21,
   "metadata": {
    "id": "jz14v3kPuAi9"
   },
   "outputs": [],
   "source": [
    "cnn.add(tf.keras.layers.MaxPool2D(pool_size=2 , strides=2))"
   ]
  },
  {
   "cell_type": "markdown",
   "metadata": {
    "id": "xaTOgD8rm4mU"
   },
   "source": [
    "### Adding a second convolutional layer"
   ]
  },
  {
   "cell_type": "code",
   "execution_count": 22,
   "metadata": {
    "id": "fD6Q6WtWvJJd"
   },
   "outputs": [],
   "source": [
    "cnn.add(tf.keras.layers.Conv2D(filters=32, kernel_size= 3, activation='relu'))\n",
    "cnn.add(tf.keras.layers.MaxPool2D(pool_size=2 , strides=2))"
   ]
  },
  {
   "cell_type": "markdown",
   "metadata": {
    "id": "tmiEuvTunKfk"
   },
   "source": [
    "###  Flattening"
   ]
  },
  {
   "cell_type": "code",
   "execution_count": 23,
   "metadata": {
    "id": "4Rzys2cyvSUp"
   },
   "outputs": [],
   "source": [
    "cnn.add(tf.keras.layers.Flatten())"
   ]
  },
  {
   "cell_type": "markdown",
   "metadata": {
    "id": "dAoSECOm203v"
   },
   "source": [
    "### Full Connection"
   ]
  },
  {
   "cell_type": "code",
   "execution_count": 24,
   "metadata": {
    "id": "GObrnKV3vkkC"
   },
   "outputs": [],
   "source": [
    "cnn.add(tf.keras.layers.Dense(units=128, activation='relu'))"
   ]
  },
  {
   "cell_type": "markdown",
   "metadata": {
    "id": "yTldFvbX28Na"
   },
   "source": [
    "### Output Layer"
   ]
  },
  {
   "cell_type": "code",
   "execution_count": 25,
   "metadata": {
    "id": "bxwUaU4ewNjg"
   },
   "outputs": [],
   "source": [
    "cnn.add(tf.keras.layers.Dense(units=4, activation='softmax'))"
   ]
  },
  {
   "cell_type": "markdown",
   "metadata": {
    "id": "D6XkI90snSDl"
   },
   "source": [
    "##  Training the CNN"
   ]
  },
  {
   "cell_type": "markdown",
   "metadata": {
    "id": "vfrFQACEnc6i"
   },
   "source": [
    "### Compiling the CNN"
   ]
  },
  {
   "cell_type": "code",
   "execution_count": 26,
   "metadata": {
    "id": "gsw_eMQQxLfd"
   },
   "outputs": [],
   "source": [
    "cnn.compile(optimizer = 'adam', loss = 'categorical_crossentropy', metrics = ['accuracy'])"
   ]
  },
  {
   "cell_type": "markdown",
   "metadata": {
    "id": "ehS-v3MIpX2h"
   },
   "source": [
    "### Training the CNN on the Training set and evaluating it on the Test set"
   ]
  },
  {
   "cell_type": "code",
   "execution_count": 27,
   "metadata": {
    "id": "YpEQtoJIyrp5"
   },
   "outputs": [
    {
     "name": "stdout",
     "output_type": "stream",
     "text": [
      "Epoch 1/25\n",
      "38/38 [==============================] - 32s 856ms/step - loss: 0.8691 - accuracy: 0.7168 - val_loss: 0.7854 - val_accuracy: 0.7284\n",
      "Epoch 2/25\n",
      "38/38 [==============================] - 31s 818ms/step - loss: 0.7325 - accuracy: 0.7359 - val_loss: 0.6788 - val_accuracy: 0.7583\n",
      "Epoch 3/25\n",
      "38/38 [==============================] - 29s 769ms/step - loss: 0.6544 - accuracy: 0.7525 - val_loss: 0.6770 - val_accuracy: 0.7342\n",
      "Epoch 4/25\n",
      "38/38 [==============================] - 28s 741ms/step - loss: 0.5832 - accuracy: 0.7749 - val_loss: 0.5297 - val_accuracy: 0.7849\n",
      "Epoch 5/25\n",
      "38/38 [==============================] - 28s 741ms/step - loss: 0.5422 - accuracy: 0.8015 - val_loss: 0.4665 - val_accuracy: 0.8123\n",
      "Epoch 6/25\n",
      "38/38 [==============================] - 28s 746ms/step - loss: 0.5134 - accuracy: 0.8048 - val_loss: 0.4490 - val_accuracy: 0.8164\n",
      "Epoch 7/25\n",
      "38/38 [==============================] - 28s 748ms/step - loss: 0.4564 - accuracy: 0.8239 - val_loss: 0.5355 - val_accuracy: 0.7940\n",
      "Epoch 8/25\n",
      "38/38 [==============================] - 28s 737ms/step - loss: 0.4783 - accuracy: 0.8223 - val_loss: 0.4779 - val_accuracy: 0.8347\n",
      "Epoch 9/25\n",
      "38/38 [==============================] - 28s 738ms/step - loss: 0.4343 - accuracy: 0.8248 - val_loss: 0.3769 - val_accuracy: 0.8621\n",
      "Epoch 10/25\n",
      "38/38 [==============================] - 28s 743ms/step - loss: 0.3972 - accuracy: 0.8414 - val_loss: 0.3933 - val_accuracy: 0.8588\n",
      "Epoch 11/25\n",
      "38/38 [==============================] - 28s 739ms/step - loss: 0.3793 - accuracy: 0.8588 - val_loss: 0.3367 - val_accuracy: 0.8729\n",
      "Epoch 12/25\n",
      "38/38 [==============================] - 28s 739ms/step - loss: 0.3708 - accuracy: 0.8630 - val_loss: 0.3877 - val_accuracy: 0.8538\n",
      "Epoch 13/25\n",
      "38/38 [==============================] - 28s 744ms/step - loss: 0.3348 - accuracy: 0.8704 - val_loss: 0.2578 - val_accuracy: 0.9028\n",
      "Epoch 14/25\n",
      "38/38 [==============================] - 28s 748ms/step - loss: 0.3363 - accuracy: 0.8729 - val_loss: 0.2586 - val_accuracy: 0.8895\n",
      "Epoch 15/25\n",
      "38/38 [==============================] - 28s 744ms/step - loss: 0.3291 - accuracy: 0.8746 - val_loss: 0.2627 - val_accuracy: 0.9095\n",
      "Epoch 16/25\n",
      "38/38 [==============================] - 28s 742ms/step - loss: 0.2922 - accuracy: 0.8904 - val_loss: 0.2229 - val_accuracy: 0.9145\n",
      "Epoch 17/25\n",
      "38/38 [==============================] - 28s 744ms/step - loss: 0.2626 - accuracy: 0.9095 - val_loss: 0.3207 - val_accuracy: 0.8738\n",
      "Epoch 18/25\n",
      "38/38 [==============================] - 28s 737ms/step - loss: 0.2648 - accuracy: 0.8962 - val_loss: 0.2521 - val_accuracy: 0.8962\n",
      "Epoch 19/25\n",
      "38/38 [==============================] - 28s 740ms/step - loss: 0.2494 - accuracy: 0.9061 - val_loss: 0.2223 - val_accuracy: 0.9211\n",
      "Epoch 20/25\n",
      "38/38 [==============================] - 28s 744ms/step - loss: 0.2536 - accuracy: 0.9045 - val_loss: 0.2122 - val_accuracy: 0.9219\n",
      "Epoch 21/25\n",
      "38/38 [==============================] - 28s 743ms/step - loss: 0.2696 - accuracy: 0.8987 - val_loss: 0.2999 - val_accuracy: 0.8870\n",
      "Epoch 22/25\n",
      "38/38 [==============================] - 28s 748ms/step - loss: 0.2316 - accuracy: 0.9169 - val_loss: 0.3641 - val_accuracy: 0.8621\n",
      "Epoch 23/25\n",
      "38/38 [==============================] - 28s 743ms/step - loss: 0.2256 - accuracy: 0.9086 - val_loss: 0.2591 - val_accuracy: 0.8937\n",
      "Epoch 24/25\n",
      "38/38 [==============================] - 28s 741ms/step - loss: 0.2491 - accuracy: 0.8987 - val_loss: 0.1912 - val_accuracy: 0.9261\n",
      "Epoch 25/25\n",
      "38/38 [==============================] - 28s 751ms/step - loss: 0.1780 - accuracy: 0.9360 - val_loss: 0.2506 - val_accuracy: 0.9095\n"
     ]
    },
    {
     "data": {
      "text/plain": [
       "<tensorflow.python.keras.callbacks.History at 0x7fa73cfbf5e0>"
      ]
     },
     "execution_count": 27,
     "metadata": {},
     "output_type": "execute_result"
    }
   ],
   "source": [
    "cnn.fit(x = training_set, validation_data = test_set, epochs = 25)"
   ]
  },
  {
   "cell_type": "markdown",
   "metadata": {
    "id": "U3PZasO0006Z"
   },
   "source": [
    "##  Making a single prediction"
   ]
  },
  {
   "cell_type": "code",
   "execution_count": 39,
   "metadata": {
    "id": "aAIfd9i61Ijs"
   },
   "outputs": [],
   "source": [
    "import numpy as np\n",
    "from tensorflow.keras.preprocessing import image\n",
    "test_image = image.load_img('dataset/single_prediction/single_prediction_2.jpg', target_size = (64,64))\n",
    "test_image = image.img_to_array(test_image)\n",
    "test_image = np.expand_dims(test_image, axis = 0)\n",
    "result = cnn.predict(test_image)\n",
    "training_set.class_indices\n",
    "if result[0][0] == 1:\n",
    "  prediction = 'Gustav_Klimt'\n",
    "elif result[0][1] == 1:\n",
    "  prediction = 'Henri_Matisse'\n",
    "elif result[0][2] == 1:\n",
    "  prediction = \"Jackson_Pollock\"\n",
    "elif result[0][3] == 1:\n",
    "  prediction = \"Vincent_van_Gogh\"\n"
   ]
  },
  {
   "cell_type": "code",
   "execution_count": 40,
   "metadata": {
    "colab": {
     "base_uri": "https://localhost:8080/",
     "height": 164
    },
    "id": "6UEfdTO036jP",
    "outputId": "c811327a-5a2e-4216-f0fa-d1a99ebc061a"
   },
   "outputs": [
    {
     "name": "stdout",
     "output_type": "stream",
     "text": [
      "Jackson_Pollock\n"
     ]
    }
   ],
   "source": [
    "print(prediction)"
   ]
  },
  {
   "cell_type": "code",
   "execution_count": null,
   "metadata": {},
   "outputs": [],
   "source": []
  }
 ],
 "metadata": {
  "colab": {
   "collapsed_sections": [],
   "name": "convolutional_neural_network.ipynb",
   "provenance": []
  },
  "kernelspec": {
   "display_name": "Python 3",
   "language": "python",
   "name": "python3"
  },
  "language_info": {
   "codemirror_mode": {
    "name": "ipython",
    "version": 3
   },
   "file_extension": ".py",
   "mimetype": "text/x-python",
   "name": "python",
   "nbconvert_exporter": "python",
   "pygments_lexer": "ipython3",
   "version": "3.8.8"
  }
 },
 "nbformat": 4,
 "nbformat_minor": 1
}
